{
 "cells": [
  {
   "cell_type": "code",
   "execution_count": 5,
   "metadata": {},
   "outputs": [],
   "source": [
    "import requests\n",
    "from lxml import etree\n",
    "import pandas as pd\n",
    "\n",
    "\n",
    "url = 'https://www.twtainan.net/zh-tw/attractions/listbytownship'  #總共46頁\n",
    "userAgent = 'Mozilla/5.0 (Macintosh; Intel Mac OS X 10_11_6) AppleWebKit/537.36 (KHTML, like Gecko) Chrome/90.0.4430.85 Safari/537.36'\n",
    "\n",
    "headers = {\n",
    "    'user-agent':userAgent\n",
    "}\n",
    "\n",
    "req = requests.get(url=url, headers=headers)\n",
    "html = etree.HTML(req.text)\n"
   ]
  },
  {
   "cell_type": "code",
   "execution_count": 6,
   "metadata": {},
   "outputs": [],
   "source": [
    "Report = []\n",
    "\n",
    "area_num = 1\n",
    "for i in range(37):\n",
    "    Area = html.xpath('/html/body/div[1]/main/div[2]/section/ul/li[{}]/div/h3/label[1]/div/text()'.format(area_num))\n",
    "    num = html.xpath('/html/body/div[1]/main/div[2]/section/ul/li[{}]/div/h3/label[1]/div/small/text()'.format(area_num))\n",
    "    num = int(num[0].split(' ')[0])\n",
    "\n",
    "    li = 1\n",
    "    \n",
    "    for i in range(num):\n",
    "        Point = html.xpath('/html/body/div[1]/main/div[2]/section/ul/li[{}]/div/div/ul/li[{}]/a/text()'.format(area_num,li))\n",
    "        li+=1\n",
    "\n",
    "        data={\n",
    "            '景點':Point[0],\n",
    "            '區域':Area[0]\n",
    "        }\n",
    "        Report.append(data)\n",
    "    \n",
    "    area_num+=1"
   ]
  },
  {
   "cell_type": "code",
   "execution_count": 7,
   "metadata": {},
   "outputs": [],
   "source": [
    "df = pd.DataFrame(Report)\n",
    "df.to_excel('台南景點行政區.xlsx')"
   ]
  },
  {
   "cell_type": "code",
   "execution_count": null,
   "metadata": {},
   "outputs": [],
   "source": []
  }
 ],
 "metadata": {
  "kernelspec": {
   "display_name": "Python 3",
   "language": "python",
   "name": "python3"
  },
  "language_info": {
   "codemirror_mode": {
    "name": "ipython",
    "version": 3
   },
   "file_extension": ".py",
   "mimetype": "text/x-python",
   "name": "python",
   "nbconvert_exporter": "python",
   "pygments_lexer": "ipython3",
   "version": "3.8.5"
  }
 },
 "nbformat": 4,
 "nbformat_minor": 4
}
