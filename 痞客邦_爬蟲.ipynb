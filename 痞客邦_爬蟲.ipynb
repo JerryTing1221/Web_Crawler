{
 "cells": [
  {
   "cell_type": "code",
   "execution_count": 34,
   "metadata": {},
   "outputs": [
    {
     "data": {
      "text/plain": [
       "[]"
      ]
     },
     "execution_count": 34,
     "metadata": {},
     "output_type": "execute_result"
    }
   ],
   "source": [
    "from selenium import webdriver\n",
    "import requests\n",
    "import pandas as pd\n",
    "from lxml import etree\n",
    "import time\n",
    "import ssl\n",
    "\n",
    "ssl._create_default_https_context = ssl._create_unverified_context\n",
    "\n",
    "\n",
    "\n",
    "url = 'https://www.pixnet.net/tags/%E5%8F%B0%E5%8D%97'\n",
    "\n",
    "userAgent = 'Mozilla/5.0 (Macintosh; Intel Mac OS X 10_11_6) AppleWebKit/537.36 (KHTML, like Gecko) Chrome/90.0.4430.72 Safari/537.36'\n",
    "\n",
    "headers = {\n",
    "    'user-aghent':userAgent\n",
    "}\n",
    "\n",
    "driver = webdriver.Chrome('./chromedriver')\n",
    "\n",
    "driver.get(url)\n",
    "\n",
    "#模擬滾輪下滑到底部：設定70次\n",
    "for i in range(1,30):\n",
    "    js=\"var q=document.documentElement.scrollTop=5000\"  \n",
    "    driver.execute_script(js)  \n",
    "    time.sleep(3)\n",
    "\n",
    "html = etree.HTML(driver.page_source)\n"
   ]
  },
  {
   "cell_type": "code",
   "execution_count": 55,
   "metadata": {},
   "outputs": [
    {
     "name": "stdout",
     "output_type": "stream",
     "text": [
      "['https://pennychen4011.pixnet.net/blog/post/331572187-%e3%80%90%e9%ab%98%e9%9b%84%ef%82%9f%e5%8f%b0%e5%8d%97%e9%81%8a%e3%80%91%e5%ae%89%e5%b9%b3%e5%8f%a4%e5%a0%a1.%e5%a4%a9%e5%90%8e%e5%ae%ae.%e5%ae%9a%e6%83%85%e7%a2%bc%e9%a0%ad.', 'https://mymelody0778.pixnet.net/blog/post/331532839', 'http://www.zariachiou.com/blog/post/557015914', 'http://www.zariachiou.com/blog/post/557015914', 'https://edgechen14me.pixnet.net/blog/post/331308358-%e3%80%90%e5%8f%b0%e5%8d%97%e5%b0%8f%e5%90%83%e3%80%91%e5%90%89%e5%93%81%e8%9c%9c%e9%a4%9e%e8%a1%8c-%e9%85%b8%e7%94%98%e7%94%9c%e7%9a%84%e5%a5%bd%e6%bb%8b%e5%91%b3-2021', 'https://wu1234321.pixnet.net/blog/post/219714181-%e3%80%90%e5%8f%b0%e5%8d%97%e9%a3%9f%e8%a8%98%e3%80%91%e9%98%bf%e5%8d%bf%e6%9d%8f%e4%bb%81%e8%8c%b6-%e5%82%b3%e7%b5%b1%e9%a3%b2%e5%93%81%e3%83%bb%e5%86%b0%e5%93%81-l-', 'https://lin170708.pixnet.net/blog/post/331267690-%e3%80%90%e5%8f%b0%e5%8d%97-tainan%e3%80%91%e5%8d%97%e5%8d%80%ef%bc%8d%e9%96%92%e6%83%85%e8%8c%97%e5%93%81%e5%b1%8b%e9%8d%8b%e7%87%92%e6%84%8f%e9%ba%b5%ef%bc%88', 'https://jp791228520.pixnet.net/blog/post/405300919-%5b%e5%b0%9b%e7%94%9f%e6%b4%bb%e5%90%83%e5%8f%b0%e5%8d%97%5d%e6%bb%bf%e6%bb%bf%e8%8d%89%e8%8e%93%e9%85%b8%e9%85%b8%e7%94%9c%e7%94%9c%ef%bc%8c%e8%8d%89%e8%8e%93%e5%ad%a3%e6%9c%80', 'https://share20xx.pixnet.net/blog/post/219641847-%e5%8f%b0%e5%8d%97174%e7%bf%bc%e9%a8%8e%e5%a3%ab%e9%a9%9b%e7%ab%99', 'https://theabbiefoodie.pixnet.net/blog/post/31929559-%e3%80%90%e5%8f%b0%e5%8d%97%e3%80%91%e8%b6%85%e4%ba%ba%e6%b0%a3%e5%90%8d%e5%ba%97%ef%bd%9e%ef%bd%9e%e5%8d%97%e5%9c%92%e8%a1%97%e9%8d%8b%e8%b2%bc', 'https://theabbiefoodie.pixnet.net/blog/post/31929559-%e3%80%90%e5%8f%b0%e5%8d%97%e3%80%91%e8%b6%85%e4%ba%ba%e6%b0%a3%e5%90%8d%e5%ba%97%ef%bd%9e%ef%bd%9e%e5%8d%97%e5%9c%92%e8%a1%97%e9%8d%8b%e8%b2%bc', 'https://rainbow12345.pixnet.net/blog/post/225251235-%e3%80%90%e4%b8%8d%e5%b0%88%e6%a5%ad%e9%a3%9f%e8%a8%98%e3%80%91%e5%8f%b0%e5%8d%97%e4%b8%ad%e8%a5%bf%ef%bc%8d%e5%ba%b7%e6%a8%82%e8%a1%97%e7%89%9b%e8%82%89%e6%b9%af%ef%bc%8c%e5%8e%9f', 'https://eat33eat33.pixnet.net/blog/post/219615267', 'https://eat33eat33.pixnet.net/blog/post/219615267', 'https://theabbiefoodie.pixnet.net/blog/post/31640446-%e3%80%90%e5%8f%b0%e5%8d%97%e3%80%91%26%23127775%3b%e6%97%a9%e5%8d%88%e9%a4%90%e6%8e%a8%e8%96%a6%26%23127775%3b%ef%bd%9e%e5%a5%bd%e5%90%83%e7%9a%84%e6%b3%95', 'https://theabbiefoodie.pixnet.net/blog/post/31640446-%e3%80%90%e5%8f%b0%e5%8d%97%e3%80%91%26%23127775%3b%e6%97%a9%e5%8d%88%e9%a4%90%e6%8e%a8%e8%96%a6%26%23127775%3b%ef%bd%9e%e5%a5%bd%e5%90%83%e7%9a%84%e6%b3%95', 'https://hrylin.pixnet.net/blog/post/47635183', 'https://yasmine357.pixnet.net/blog/post/30178603-%e5%8f%b0%e5%8d%97-%e5%a5%87%e7%be%8e%e5%8d%9a%e7%89%a9%e9%a4%a8%26%e8%99%8e%e9%9b%b7%e5%89%b5%e6%84%8f%e8%9b%8b%e5%a1%94%26%e5%8d%97%e8%88%88%e9%b1%94%e9%ad%9a%e6%84%8f%e9%ba%b5', 'https://sammi0224.pixnet.net/blog/post/120955029-%e6%96%b0%e6%98%a5%e5%8f%b0%e5%8d%97%e5%bf%85%e9%81%8a%e8%a6%aa%e5%ad%90%e6%99%af%e9%bb%9e%ef%bd%9c%e5%a5%87%e7%be%8e%e9%a3%9f%e5%93%81%e5%b9%b8%e7%a6%8f%e5%b7%a5%e5%bb%a0%e3%80%82', 'https://andylababylove14.pixnet.net/blog/post/360911194-rootsinn', 'https://vinijoyce223.pixnet.net/blog/post/353396914-%e7%b6%a0%e7%94%ba%e6%8a%b9%e8%8c%b6%e5%b0%88%e9%96%80%e5%ba%97', 'https://blue90184.pixnet.net/blog/post/330457099-%ef%bd%9b%e5%8f%b0%e5%8d%97%ef%bd%9d%e3%80%90%e6%ad%8c%e9%ba%bf%e6%97%a5%e6%9c%ac%e6%96%99%e7%90%86%e3%80%91%e6%97%a5%e6%9c%ac%e3%81%ae%e5%91%b3%e3%81%86%e3%81%9f%e3%81%be%e3%82%8b', 'https://little2eat.pixnet.net/blog/post/328750893-%3c%e5%8f%b0%e5%8d%97%e3%80%82%e4%b8%ad%e8%a5%bf%e5%8d%80%3e-%e9%b3%b3%e5%a7%90%e9%b4%a8%e8%82%89%e9%a3%af%e3%80%82%e6%99%9a%e4%be%86%e5%b0%b1%e5%90%83%e4%b8%8d%e5%88%b0%e7%9a%84', 'https://little2eat.pixnet.net/blog/post/328750893-%3c%e5%8f%b0%e5%8d%97%e3%80%82%e4%b8%ad%e8%a5%bf%e5%8d%80%3e-%e9%b3%b3%e5%a7%90%e9%b4%a8%e8%82%89%e9%a3%af%e3%80%82%e6%99%9a%e4%be%86%e5%b0%b1%e5%90%83%e4%b8%8d%e5%88%b0%e7%9a%84', 'https://jp791228520.pixnet.net/blog/post/405210309-%e9%98%bf%e6%9d%be%e5%89%b2%e5%8c%85-%e5%8f%b0%e5%8d%97%e4%b8%ad%e8%a5%bf%e5%8d%80', 'https://jp791228520.pixnet.net/blog/post/405210309-%e9%98%bf%e6%9d%be%e5%89%b2%e5%8c%85-%e5%8f%b0%e5%8d%97%e4%b8%ad%e8%a5%bf%e5%8d%80', 'https://little2eat.pixnet.net/blog/post/328593295-%3c%e5%8f%b0%e5%8d%97.%e4%b8%ad%e8%a5%bf%e5%8d%80%3e-shwe-shwe-%e6%9d%b1%e5%8d%97%e4%ba%9e%e4%b8%bb%e9%a1%8c%e5%b0%8f%e5%ba%97%e3%80%82%e7%94%a8%e9%81%93', 'https://little2eat.pixnet.net/blog/post/328593295-%3c%e5%8f%b0%e5%8d%97.%e4%b8%ad%e8%a5%bf%e5%8d%80%3e-shwe-shwe-%e6%9d%b1%e5%8d%97%e4%ba%9e%e4%b8%bb%e9%a1%8c%e5%b0%8f%e5%ba%97%e3%80%82%e7%94%a8%e9%81%93', 'https://cynical0920.pixnet.net/blog/post/360511208-%e5%85%8b%e6%9e%97%e8%82%89%e5%8c%85-%e8%b3%a3%e5%be%97%e4%b8%8d%e5%8f%aa%e6%98%af%e8%82%89%e5%8c%85%e5%8f%b0%e5%8d%97%e4%bc%b4%e6%89%8b%e7%a6%ae%e7%9a%84%e9%81%b8%e6%93%87', 'https://cynical0920.pixnet.net/blog/post/360511208-%e5%85%8b%e6%9e%97%e8%82%89%e5%8c%85-%e8%b3%a3%e5%be%97%e4%b8%8d%e5%8f%aa%e6%98%af%e8%82%89%e5%8c%85%e5%8f%b0%e5%8d%97%e4%bc%b4%e6%89%8b%e7%a6%ae%e7%9a%84%e9%81%b8%e6%93%87', 'https://emmalin19930325.pixnet.net/blog/post/328767040-%e7%95%99%e5%ad%b8%e7%94%9f%e9%83%bd%e5%8e%bb%e5%93%aa%e8%a3%a1%e7%8e%a9---%e5%8f%b0%e5%8d%97-tainan-%28%e4%ba%8c%29', 'https://emmalin19930325.pixnet.net/blog/post/328767040-%e7%95%99%e5%ad%b8%e7%94%9f%e9%83%bd%e5%8e%bb%e5%93%aa%e8%a3%a1%e7%8e%a9---%e5%8f%b0%e5%8d%97-tainan-%28%e4%ba%8c%29', 'https://sophie199429.pixnet.net/blog/post/47551125-%e3%80%90%e5%8f%b0%e5%8c%97%e7%be%8e%e9%a3%9f%e3%80%91%e5%8f%af%e7%ab%8b%e5%98%89%e5%ab%a9%e9%aa%a8%e8%aa%bf%e7%90%86%e5%8c%85%ef%bc%8c%e5%9c%a8%e5%ae%b6%e5%b0%b1%e8%83%bd%e5%90%83', 'https://sophie199429.pixnet.net/blog/post/47551125-%e3%80%90%e5%8f%b0%e5%8c%97%e7%be%8e%e9%a3%9f%e3%80%91%e5%8f%af%e7%ab%8b%e5%98%89%e5%ab%a9%e9%aa%a8%e8%aa%bf%e7%90%86%e5%8c%85%ef%bc%8c%e5%9c%a8%e5%ae%b6%e5%b0%b1%e8%83%bd%e5%90%83', 'https://colia.pixnet.net/blog/post/44968069', 'https://carly2lego.pixnet.net/blog/post/219228197-%5b%e5%8f%b0%e5%8d%97%ef%bd%9c%e5%b0%8f%e8%b1%aa%e6%b4%b2%e6%b2%99%e8%8c%b6%e7%88%90%5d-%e5%8f%b0%e5%8d%97%e4%b8%8d%e6%98%af%e5%8f%aa%e6%9c%89%e7%89%9b%e8%82%89%e6%b9%af%ef%bc%8c', 'https://ranjo002.pixnet.net/blog/post/120883549-%e5%8f%b0%e5%8d%97%e6%b0%b8%e6%a8%82%e5%b8%82%e5%a0%b4%e2%94%82%e4%b8%80%e5%91%b3%e5%93%81%e7%a2%97%e7%b2%bf%ef%bc%9a%e5%9c%a8%e5%8f%b0%e5%8d%97%e7%9a%84%e6%97%a9%e6%99%a8%e5%b0%b1', 'https://ranjo002.pixnet.net/blog/post/120883549-%e5%8f%b0%e5%8d%97%e6%b0%b8%e6%a8%82%e5%b8%82%e5%a0%b4%e2%94%82%e4%b8%80%e5%91%b3%e5%93%81%e7%a2%97%e7%b2%bf%ef%bc%9a%e5%9c%a8%e5%8f%b0%e5%8d%97%e7%9a%84%e6%97%a9%e6%99%a8%e5%b0%b1', 'https://ranjo002.pixnet.net/blog/post/120883485-%e5%8f%b0%e5%8d%97%e5%ae%89%e5%b9%b3%e5%8d%80%e2%94%82%e6%96%87%e7%ab%a0%e7%89%9b%e8%82%89%e6%b9%af%ef%bc%9a%e5%9c%a8%e5%9c%b0%e4%ba%ba%e4%b8%8d%e5%8f%af%e7%bc%ba%e5%b0%91%e7%9a%84', 'https://ranjo002.pixnet.net/blog/post/120883485-%e5%8f%b0%e5%8d%97%e5%ae%89%e5%b9%b3%e5%8d%80%e2%94%82%e6%96%87%e7%ab%a0%e7%89%9b%e8%82%89%e6%b9%af%ef%bc%9a%e5%9c%a8%e5%9c%b0%e4%ba%ba%e4%b8%8d%e5%8f%af%e7%bc%ba%e5%b0%91%e7%9a%84', 'https://liaoyaching.pixnet.net/blog/post/230041447-%e5%8f%b0%e7%81%a3-%e5%8f%b0%e5%8d%97-%e9%ab%98%e9%9b%84-%e4%ba%8c%e5%a4%a9%e4%b8%80%e5%a4%9c%e8%b6%b4%e5%90%90', 'https://liaoyaching.pixnet.net/blog/post/230041447-%e5%8f%b0%e7%81%a3-%e5%8f%b0%e5%8d%97-%e9%ab%98%e9%9b%84-%e4%ba%8c%e5%a4%a9%e4%b8%80%e5%a4%9c%e8%b6%b4%e5%90%90', 'https://ranjo002.pixnet.net/blog/post/120832185-%e5%8f%b0%e5%8d%97%e4%b8%ad%e8%a5%bf%e5%8d%80%e2%94%82%e7%84%a1%e5%90%8d%e7%b1%b3%e7%b3%95%28%e7%82%ae%e5%ba%97%e7%b1%b3%e7%b3%95%29%ef%bc%9a%e9%9a%b1%e8%ba%ab%e5%9c%a8%e5%b7%b7', 'https://ranjo002.pixnet.net/blog/post/120832185-%e5%8f%b0%e5%8d%97%e4%b8%ad%e8%a5%bf%e5%8d%80%e2%94%82%e7%84%a1%e5%90%8d%e7%b1%b3%e7%b3%95%28%e7%82%ae%e5%ba%97%e7%b1%b3%e7%b3%95%29%ef%bc%9a%e9%9a%b1%e8%ba%ab%e5%9c%a8%e5%b7%b7', 'https://emmalin19930325.pixnet.net/blog/post/328530295-%e7%95%99%e5%ad%b8%e7%94%9f%e9%83%bd%e5%8e%bb%e5%93%aa%e8%a3%a1%e7%8e%a9---%e5%8f%b0%e5%8d%97-tainan-%28%e3%84%a7%29', 'https://emmalin19930325.pixnet.net/blog/post/328530295-%e7%95%99%e5%ad%b8%e7%94%9f%e9%83%bd%e5%8e%bb%e5%93%aa%e8%a3%a1%e7%8e%a9---%e5%8f%b0%e5%8d%97-tainan-%28%e3%84%a7%29', 'https://lintzuyang79.pixnet.net/blog/post/352656118', 'https://lintzuyang79.pixnet.net/blog/post/352656118', 'https://eshili0509.pixnet.net/blog/post/353138584-%ef%bc%9c%e5%8f%b0%e5%8d%97%e7%be%8e%e9%a3%9f%ef%bc%9e%e5%b0%8d%e8%87%aa%e5%b7%b1%e7%9a%84%e6%89%8b%e8%97%9d%e6%9c%80%e6%9c%89%e4%bf%a1%e5%bf%83%e7%9a%84%e6%97%a5%e5%bc%8f%e6%96%99', 'https://puddingegg.pixnet.net/blog/post/22350689-%e6%88%91%e5%80%91%e5%8f%b0%e5%8d%97%e5%95%a6%ef%bc%81', 'https://bne9999999.pixnet.net/blog/post/219204685-%e5%ba%9c%e5%9f%8e%e5%8f%b0%e5%8d%97%e5%90%83%e9%80%8f%e9%80%8f', 'https://yabepark.pixnet.net/blog/post/219191142-%e5%8f%a4%e9%83%bd%e4%b9%8b%e6%97%85%c2%b7%e7%8e%a9%e9%81%8d%e5%8f%b0%e5%8d%97%e4%ba%ba%e6%96%87%e9%a2%a8%e6%99%af', 'https://loveagomlp.pixnet.net/blog/post/21797129-%e9%80%a3%e5%be%97%e5%a0%82%e7%85%8e%e9%a4%85%e3%80%82%e5%8f%b0%e5%8d%97%e5%8c%97%e5%8d%80%e7%be%8e%e9%a3%9f%e3%80%81%e7%85%8e%e9%a4%85%e3%80%81%e5%8f%a4%e6%97%a9%e5%91%b3%e9%a4%85', 'https://andylababylove14.pixnet.net/blog/post/360311403-guangzimilkfish', 'https://grasslung.pixnet.net/blog/post/120759753-1091009-%e5%8f%b0%e5%8d%97%e4%b8%ad%e8%a5%bf%e5%8d%80%e5%8f%b8%e6%b3%95%e5%8d%9a%e7%89%a9%e9%a4%a8', 'https://ss20314ss.pixnet.net/blog/post/120763719-%e3%80%90%e7%b6%a0%e7%ab%b9%e5%ad%90%e5%81%bd%e6%97%a5%e6%9c%ac%e3%80%91-%e5%8f%b0%e5%8d%97-%e4%b8%80%e7%a7%92%e5%bd%b7%e5%bd%bf%e5%9c%a8%e6%97%a5%e6%9c%ac%3f-%e6%a1%91', 'https://yiting821117.pixnet.net/blog/post/360232266', 'https://yiting821117.pixnet.net/blog/post/360232266', 'https://juliachiu0208.pixnet.net/blog/post/69322016-%e3%80%90%e5%8f%b0%e5%8d%97%e7%be%8e%e9%a3%9f%e3%80%91%e6%96%87%e7%ab%a0%e7%89%9b%e8%82%89%e6%b9%af%ef%bc%8e%e5%ae%89%e5%b9%b3%e8%b6%85%e4%ba%ba%e6%b0%a3%e6%8e%92%e9%9a%8a%e7%89%9b', 'https://cat10536.pixnet.net/blog/post/353052965-%5b%e5%8f%b0%e5%8d%97%5d%5b%e5%ae%89%e5%b9%b3%5d-%e5%9c%a8%e6%b5%aa%e6%bc%ab%e7%9a%84%e5%ae%89%e5%b9%b3%e5%a4%95%e7%85%a7%e4%b8%8b%e7%b4%84%e5%80%8b%e6%9c%83%e5%90%a7%21', 'https://cat10536.pixnet.net/blog/post/353023952-%ef%bc%bb%e5%8f%b0%e5%8d%97%ef%bc%bd%5b%e7%8e%89%e4%ba%95%5d-%e7%99%bd%e8%89%b2%e6%95%99%e5%a0%82-%e9%9a%b1%e7%94%b0%e5%b1%b1%e6%88%bf%ef%bc%8c%e7%8e%89%e4%ba%95%e5%b1%b1', 'https://livi1233.pixnet.net/blog/post/327321475-%e5%8f%b0%e5%8d%97%e4%b8%ad%e8%a5%bf%e5%8d%80%e5%b0%8f%e5%90%83%e7%be%8e%e9%a3%9f%e3%83%bb%e5%b0%8f%e9%87%91%e9%ba%b5%e5%ba%97%ef%bd%9c%e5%8f%a4%e6%97%a9%e5%91%b3%e9%ba%b5%e9%a4%a8', 'https://adpeggy.pixnet.net/blog/post/69404642', 'https://tim2terry.pixnet.net/blog/post/21118835-%e7%94%9f%e5%9c%a8%e5%8f%b0%e7%81%a3%e4%b8%80%e5%ae%9a%e5%be%97%e4%be%86%e7%9a%84%e7%be%8e%e6%99%af-%e5%8f%b0%e6%b1%9f%e5%9c%8b%e5%ae%b6%e5%85%ac%e5%9c%92', 'https://kenwhitney.pixnet.net/blog/post/47494895-%e3%80%90%e5%8f%b0%e5%8d%97-%e5%ae%89%e5%b9%b3%e3%80%91%e7%a2%b3%e4%bd%90%e9%ba%bb%e9%87%8c%e7%b2%be%e5%93%81%e7%87%92%e8%82%89%ef%bc%88%e5%8f%b0%e5%8d%97%e5%ba%9c%e5%89%8d', 'https://kenwhitney.pixnet.net/blog/post/47494895-%e3%80%90%e5%8f%b0%e5%8d%97-%e5%ae%89%e5%b9%b3%e3%80%91%e7%a2%b3%e4%bd%90%e9%ba%bb%e9%87%8c%e7%b2%be%e5%93%81%e7%87%92%e8%82%89%ef%bc%88%e5%8f%b0%e5%8d%97%e5%ba%9c%e5%89%8d', 'https://kevin870102.pixnet.net/blog/post/219056508-%e8%b7%9f%e6%88%9117%e5%98%89%e7%be%a9%e5%8f%b0%e5%8d%97%e4%ba%8c%e6%97%a5%e9%81%8a%28%e5%98%89%e7%be%a9%e7%af%87%29', 'https://kevin870102.pixnet.net/blog/post/219056508-%e8%b7%9f%e6%88%9117%e5%98%89%e7%be%a9%e5%8f%b0%e5%8d%97%e4%ba%8c%e6%97%a5%e9%81%8a%28%e5%98%89%e7%be%a9%e7%af%87%29', 'https://jiangjiangx2.pixnet.net/blog/post/326936191-%e5%8f%b0%e5%8d%97%ef%bd%9c%e5%af%8c%e7%9b%9b%e8%99%9f%e7%a2%97%e7%b2%bf%ef%bc%8e%e6%b0%b8%e6%a8%82%e5%b8%82%e5%a0%b4%e7%a2%97%e7%b2%bf%ef%bd%9e%e9%ad%9a%e7%be%b9%ef%bc%8e%e8%80%81', 'https://wuathena.pixnet.net/blog/post/47479191-%e3%80%90%e7%be%8e%e9%a3%9f%e3%80%91%e5%8f%b0%e5%8d%97%e8%b6%85%e4%ba%ba%e6%b0%a3%e5%8e%9a%e5%88%87%e5%8f%89%e7%87%92%e6%97%a5%e5%bc%8f%e6%a5%b5%e7%b4%b0%e6%8b%89%e9%ba%b5-', 'https://chiuchiuyeah.pixnet.net/blog/post/309539558-%e5%8f%b0%e5%8d%97%e4%ba%ba%e5%b9%b3%e5%b8%b8%e7%9a%84%e4%b8%80%e9%a4%90%7e%e8%bf%a6%e5%8d%97%e5%86%b0%e6%9e%9c%e5%ba%97', 'https://bne9999999.pixnet.net/blog/post/218727783-%e5%8f%b0%e5%8d%97-%e4%b8%ad%e8%a5%bf%e5%8d%80-%e6%9c%89%e6%96%b9%e5%85%ac%e5%af%93', 'https://winni0730.pixnet.net/blog/post/120618417-%e5%8f%b0%e5%8d%97-%e5%8f%b0%e6%b1%9f%e7%be%8e%e9%a3%9f%e6%a3%a7-%e7%94%b0%e5%aa%bd%e5%aa%bd', 'https://winni0730.pixnet.net/blog/post/120618417-%e5%8f%b0%e5%8d%97-%e5%8f%b0%e6%b1%9f%e7%be%8e%e9%a3%9f%e6%a3%a7-%e7%94%b0%e5%aa%bd%e5%aa%bd', 'https://kenwhitney.pixnet.net/blog/post/47445524-%e3%80%90%e5%8f%b0%e5%8d%97-%e4%b8%ad%e8%a5%bf%e3%80%91%e4%b8%80%e5%91%b3%e5%93%81%e7%a2%97%e7%b2%bf%e2%80%a7%e9%ad%9a%e7%be%b9', 'https://me7129.pixnet.net/blog/post/359782153-%e5%8f%b0%e5%8d%97%e3%80%82%e4%bb%81%e5%be%b7%e5%8d%81%e9%bc%93%e4%bb%81%e7%b3%96%e6%96%87%e5%89%b5%e5%9c%92%e5%8d%80', 'https://me7129.pixnet.net/blog/post/359782153-%e5%8f%b0%e5%8d%97%e3%80%82%e4%bb%81%e5%be%b7%e5%8d%81%e9%bc%93%e4%bb%81%e7%b3%96%e6%96%87%e5%89%b5%e5%9c%92%e5%8d%80', 'https://eatheart28879280.pixnet.net/blog/post/325400093', 'https://eatheart28879280.pixnet.net/blog/post/325400093', 'https://jp791228520.pixnet.net/blog/post/404882854', 'https://kenwhitney.pixnet.net/blog/post/47400230-%e3%80%90%e5%8f%b0%e5%8d%97-%e6%9d%b1%e5%8d%80%e3%80%91%e5%8f%b0%e5%8d%97%e8%80%81%e7%88%ba%e8%a1%8c%e6%97%85-the-place-tainan%ef%bd%9e%e7%b5%90', 'https://lololo223344.pixnet.net/blog/post/324250750-%5b%e5%85%b6%e4%bb%96%5d%5b%e5%8f%b0%e5%8d%97%5d%e5%ba%b7%e6%a9%8b%e5%95%86%e6%97%85-%e5%8f%b0%e5%8d%97%e8%b5%a4%e5%b4%81%e6%a8%93%e9%a4%a8', 'https://chinfup6.pixnet.net/blog/post/352064479-%e3%80%8c%e5%8f%b0%e5%8d%97%e4%bd%8f%e5%ae%bf%e3%80%8d%e5%8f%b0%e5%8d%97%e6%99%b6%e8%8b%b1%e9%85%92%e5%ba%97%ef%bd%9c%e7%a9%bf%e6%90%ad%e5%88%86%e4%ba%ab', 'https://bunnyli32.pixnet.net/blog/post/68111628', 'https://bunnyli32.pixnet.net/blog/post/68111628', 'https://jiunweili.pixnet.net/blog/post/350175454-%e6%84%9b%e5%90%83%e3%80%82%e9%a3%9f%e8%a8%98%e2%9d%a4%e5%8f%b0%e5%8d%97%2a%e5%8c%97%e5%8d%80%e2%98%86%e8%b1%9a%e9%aa%a8%e5%ae%b6%e6%8b%89%e9%ba%b5-%e5%b0%8f%e5%8c%97%e5%ba%97', 'https://zhishen.pixnet.net/blog/post/67953687-%e8%a5%bf%e7%be%85%e6%ae%bf%e7%89%9b%e8%82%89%e6%b9%af.-%e6%ad%a3%e6%b8%af%e4%bb%94%e5%8f%b0%e5%8d%97%e4%ba%ba%e3%84%9f%e6%97%a9%e9%a4%90-2018%e5%8f%b0%e5%8d%97', 'https://zhishen.pixnet.net/blog/post/67953687-%e8%a5%bf%e7%be%85%e6%ae%bf%e7%89%9b%e8%82%89%e6%b9%af.-%e6%ad%a3%e6%b8%af%e4%bb%94%e5%8f%b0%e5%8d%97%e4%ba%ba%e3%84%9f%e6%97%a9%e9%a4%90-2018%e5%8f%b0%e5%8d%97', 'https://vip9854.pixnet.net/blog/post/467446772-%e3%80%90%e5%8f%b0%e5%8d%97%e9%a3%9f%e8%a8%98%e3%80%91%e5%ae%89%e5%8d%97%e5%8d%80-%e8%80%81%e7%89%8c-%e8%b5%a4%e8%82%89%e8%85%b8%e8%9a%b5%e9%ba%b5%e7%b7%9a%e3%80%82%e7%ac%ac', 'https://vip9854.pixnet.net/blog/post/467446772-%e3%80%90%e5%8f%b0%e5%8d%97%e9%a3%9f%e8%a8%98%e3%80%91%e5%ae%89%e5%8d%97%e5%8d%80-%e8%80%81%e7%89%8c-%e8%b5%a4%e8%82%89%e8%85%b8%e8%9a%b5%e9%ba%b5%e7%b7%9a%e3%80%82%e7%ac%ac', 'https://zhishen.pixnet.net/blog/post/67919514-%e4%b8%8b%e5%a4%a7%e9%81%93%e8%98%ad%e7%b1%b3%e7%b3%95.%e8%82%89%e7%87%a5%e9%ad%9a%e9%ac%86%e9%a6%99%e6%b0%a3%e7%88%86%e7%99%bc-2018%e5%8f%b0%e5%8d%97%e8%a1%8c', 'https://zhishen.pixnet.net/blog/post/67919514-%e4%b8%8b%e5%a4%a7%e9%81%93%e8%98%ad%e7%b1%b3%e7%b3%95.%e8%82%89%e7%87%a5%e9%ad%9a%e9%ac%86%e9%a6%99%e6%b0%a3%e7%88%86%e7%99%bc-2018%e5%8f%b0%e5%8d%97%e8%a1%8c', 'https://m10395710.pixnet.net/blog/post/283975840-%e5%8f%b0%e5%8d%97%e5%8d%8a%e6%97%a5%e9%81%8a%26%23127792%3b%e9%b9%bf%e6%97%a9%e9%a3%9f%e5%99%a8%26%23127842%3b%e4%ba%8c%e5%85%83%e9%bb%91%e8%bc%aa%26%231', 'https://melai0210.pixnet.net/blog/post/227369483-%e5%8f%b0%e5%8d%97%e5%8f%a4%e9%83%bd%7e%e6%97%97%e6%b4%a5%7e%e9%ab%98%e9%9b%844%2b2--%28%e4%b8%8a%29-%e5%8f%b0%e5%8d%97%e7%af%87', 'https://melai0210.pixnet.net/blog/post/227369483-%e5%8f%b0%e5%8d%97%e5%8f%a4%e9%83%bd%7e%e6%97%97%e6%b4%a5%7e%e9%ab%98%e9%9b%844%2b2--%28%e4%b8%8a%29-%e5%8f%b0%e5%8d%97%e7%af%87', 'https://ynendni.pixnet.net/blog/post/467207108', 'https://syhi1019.pixnet.net/blog/post/467186792-%e3%80%90%e9%a3%9f%e8%a8%98%e3%80%91%e5%8f%b0%e5%8d%97%e5%ae%89%e5%8d%97_%e6%a4%b0%e5%ba%ad%e6%99%af%e8%a7%80%e9%a4%90%e5%bb%b3%40', 'https://m10395710.pixnet.net/blog/post/279398060-%e9%99%b8%e6%b5%b7%e7%a9%ba%26%23127775%3b%e7%a2%97%e7%b2%bf%e3%81%ae%e9%a1%98%e6%9c%9b%26%23127775%3bbowled-rice-cake-o', 'https://zhishen.pixnet.net/blog/post/67779426-%e9%be%8d%e8%b2%93%e5%bd%a9%e7%b9%aa%e6%9d%91.%e5%a4%a7%e5%85%a7%e9%ab%98%e6%89%8b%e6%89%93%e9%80%a0%e7%9a%84%e5%a5%87%e5%b9%bb%e4%b8%96%e7%95%8c-2018%e5%8f%b0%e5%8d%97', 'https://minihuaaa.pixnet.net/blog/post/278643356', 'https://syhi1019.pixnet.net/blog/post/465093962-%e3%80%90%e9%81%8a%e8%a8%98%e3%80%91%e5%8f%b0%e5%8d%97%e5%be%8c%e5%a3%81_%e7%83%8f%e6%a8%b9%e6%9e%97%e4%bc%91%e9%96%92%e5%9c%92%e5%8d%80%40', 'https://zhishen.pixnet.net/blog/post/67602444-%e4%bd%b3%e8%88%88%e7%99%be%e5%b9%b4%e8%80%81%e5%ba%97%e5%a4%a7%e8%85%b8%e7%b2%a5.%e5%9c%a8%e5%9c%b0%e4%ba%ba%e6%8e%a8%e8%96%a6%e5%9c%a8%e5%9c%b0%e5%b0%8f%e5%90%83-2018', 'https://zhishen.pixnet.net/blog/post/67690857-%e7%a7%80%e9%87%8c%e8%9a%b5%e5%97%b2.%e5%b0%87%e8%bb%8d%e9%9d%92%e9%af%a4%e9%af%93%e5%b7%b7%e5%bc%84%e8%a3%8f%e7%9a%84%e9%bb%83%e9%87%91%e9%85%a5%e8%84%86-2018%e5%8f%b0', 'http://www.girlslifeplan.com/blog/post/352377713-%e3%80%90%e5%8f%b0%e5%8d%97%e5%9c%8b%e8%8f%af%e8%a1%97%e3%80%91%e9%a3%b2%e8%8a%b1%e8%8c%b6%e5%ae%a4%ef%bc%9a%e9%a3%b2%e4%b8%80%e6%9d%af%e6%b5%aa%e6%bc%ab%e8%8a%b1%e8%aa%9e%e8%8a%b1', 'http://www.girlslifeplan.com/blog/post/352377713-%e3%80%90%e5%8f%b0%e5%8d%97%e5%9c%8b%e8%8f%af%e8%a1%97%e3%80%91%e9%a3%b2%e8%8a%b1%e8%8c%b6%e5%ae%a4%ef%bc%9a%e9%a3%b2%e4%b8%80%e6%9d%af%e6%b5%aa%e6%bc%ab%e8%8a%b1%e8%aa%9e%e8%8a%b1', 'https://ju24le.pixnet.net/blog/post/349622116-%5b%e9%a3%9f%e8%a8%98%5d-a-room%e6%88%bf%e9%96%93%e5%92%96%e5%95%a1-%e9%9a%b1%e8%97%8f%e5%9c%a8%e5%b7%b7%e5%ad%90%e7%9a%84%e5%92%96%e5%95%a1%e9%a4%a8', 'https://jiunweili.pixnet.net/blog/post/349644043', 'https://vip9854.pixnet.net/blog/post/466943888-%e3%80%90%e5%8f%b0%e5%8d%97%e6%99%af%e9%bb%9e%e3%80%91%e5%ae%89%e5%8d%97%e5%8d%80-%e5%8f%b0%e6%b1%9f%e6%96%87%e5%8c%96%e4%b8%ad%e5%bf%83-%e3%80%8c%e6%bc%94%e8%97%9d%e5%bb%b3', 'https://vip9854.pixnet.net/blog/post/466877867-%e3%80%90%e5%8f%b0%e5%8d%97%e6%99%af%e9%bb%9e%e3%80%91%e5%85%ad%e7%94%b2%e5%8d%80-%e8%8f%81%e5%9f%94%e7%a2%91-%e8%90%bd%e7%be%bd%e6%9d%be%e6%a3%ae%e6%9e%97-%e5%a4%a2%e5%b9%bb', 'https://zhishen.pixnet.net/blog/post/67685067-%e5%8c%85%e6%88%90%e7%be%8a%e8%82%89.%e5%b0%8f%e8%a5%bf%e9%96%80%e5%9c%93%e7%92%b0%e7%be%8a%e8%82%89%e8%80%81%e5%ad%97%e8%99%9f-2018%e5%8f%b0%e5%8d%97%e8%a1%8c', 'https://jiunweili.pixnet.net/blog/post/349590331', 'https://zhishen.pixnet.net/blog/post/67631646-%e9%98%bf%e8%a3%95%e7%89%9b%e8%82%89%e6%b9%af.%e7%84%a1%e6%b3%95%e5%89%b2%e6%8d%a8%e7%9a%84%e5%9c%a8%e5%9c%b0%e7%be%8e%e5%91%b3-2018%e5%8f%b0%e5%8d%97%e8%a1%8c', 'https://ynendni.pixnet.net/blog/post/466719422', 'https://zhishen.pixnet.net/blog/post/67617024-%e4%ba%8c%e7%a9%ba%e7%87%95%e4%ba%ac%e8%94%a5%e6%b2%b9%e9%a4%85.%e9%81%a0%e9%9b%a2%e5%b8%82%e5%8d%80%e5%8f%88%e5%8f%aa%e8%83%bd%e5%a4%96%e5%b8%b6%e7%9a%84%e7%9c%b7%e6%9d%91', 'https://zhishen.pixnet.net/blog/post/67596453-%e8%9d%b8%e7%89%9b%e5%b7%b7.%e7%b4%b0%e6%95%b8%e8%9d%b8%e7%89%9b%e6%85%a2%e6%ad%a5%e9%9d%9c%e7%b8%8a%e5%b7%b7%e5%bc%84-2018%e5%8f%b0%e5%8d%97%e8%a1%8c', 'https://ynendni.pixnet.net/blog/post/465469172', 'https://ynendni.pixnet.net/blog/post/465469172', 'https://jkaln4869.pixnet.net/blog/post/35247001', 'https://jkaln4869.pixnet.net/blog/post/35246959', 'https://jkaln4869.pixnet.net/blog/post/35247766', 'https://jkaln4869.pixnet.net/blog/post/35247034', 'https://jkaln4869.pixnet.net/blog/post/35246941', 'https://jkaln4869.pixnet.net/blog/post/35246917', 'https://ynendni.pixnet.net/blog/post/463832009', 'https://pixseedacademy.pixnet.net/blog/post/199193024-basic-photography', 'https://pixseedacademy.pixnet.net/blog/post/190963610-instegram', 'https://pixseedacademy.pixnet.net/blog/post/190961510-instegram', 'https://pixseedacademy.pixnet.net/blog/post/190961510-instegram']\n"
     ]
    }
   ],
   "source": [
    "pageLink = html.xpath('//@href')\n",
    "\n",
    "pageList = []\n",
    "\n",
    "for i in pageLink:\n",
    "    if 'blog/post' in i:\n",
    "        pageList.append(i)\n",
    "    else:\n",
    "        pass\n",
    "print(pageList)"
   ]
  },
  {
   "cell_type": "code",
   "execution_count": 87,
   "metadata": {},
   "outputs": [],
   "source": [
    "from bs4 import BeautifulSoup\n",
    "import ssl\n",
    "import os\n",
    "\n",
    "ssl._create_default_https_context = ssl._create_unverified_context\n",
    "\n",
    "\n",
    "\n",
    "\n",
    "folderName = './PixPhoto/'\n",
    "if not os.path.exists(folderName):\n",
    "    os.mkdir(folderName)\n",
    "    \n",
    "\n",
    "    \n",
    "    \n",
    "for i in pageList:\n",
    "    resq = requests.get(i)\n",
    "    resq.encoding = \"gzip\"\n",
    "    soup = BeautifulSoup(resq.text)\n",
    "    #print(soup)\n",
    "    pageTitle = soup.select('h2[itemprop=\"headline\"]')\n",
    "    pageContent = soup.select('div[class=\"article-body\"]')\n",
    "    page_link = i\n",
    "    \n",
    "    \n",
    "    try:\n",
    "        pagePath = folderName + pageTitle[0].text\n",
    "\n",
    "\n",
    "        with open(pagePath, 'w') as f:\n",
    "            f.write(pageContent[0].text)\n",
    "    \n",
    "    except:\n",
    "        pass\n",
    "        \n",
    "\n",
    "\n",
    "\n",
    "\n",
    "\n",
    "    "
   ]
  },
  {
   "cell_type": "code",
   "execution_count": 83,
   "metadata": {},
   "outputs": [],
   "source": [
    "#建資料夾\n",
    "folderName = './PixPhoto/'\n",
    "if not os.path.exists(folderName):\n",
    "    os.mkdir(folderName)\n",
    "\n",
    "pagePath = folderName + pageTitle[0].text\n",
    "\n",
    "    \n",
    "with open(pagePath, 'w') as f:\n",
    "    f.write(pageContent[0].text)\n",
    "\n",
    "pagePath.close()\n",
    "\n"
   ]
  },
  {
   "cell_type": "code",
   "execution_count": 82,
   "metadata": {},
   "outputs": [
    {
     "data": {
      "text/plain": [
       "'/Users/Jerry/Desktop'"
      ]
     },
     "execution_count": 82,
     "metadata": {},
     "output_type": "execute_result"
    }
   ],
   "source": [
    "os.getcwd()"
   ]
  },
  {
   "cell_type": "code",
   "execution_count": 2,
   "metadata": {},
   "outputs": [
    {
     "ename": "ValueError",
     "evalue": "too many values to unpack (expected 2)",
     "output_type": "error",
     "traceback": [
      "\u001b[0;31m---------------------------------------------------------------------------\u001b[0m",
      "\u001b[0;31mValueError\u001b[0m                                Traceback (most recent call last)",
      "\u001b[0;32m<ipython-input-2-c8aeb3bee0a5>\u001b[0m in \u001b[0;36m<module>\u001b[0;34m\u001b[0m\n\u001b[1;32m      5\u001b[0m \u001b[0md\u001b[0m \u001b[0;34m=\u001b[0m \u001b[0;34m[\u001b[0m\u001b[0;34m]\u001b[0m\u001b[0;34m\u001b[0m\u001b[0;34m\u001b[0m\u001b[0m\n\u001b[1;32m      6\u001b[0m \u001b[0;34m\u001b[0m\u001b[0m\n\u001b[0;32m----> 7\u001b[0;31m \u001b[0;32mfor\u001b[0m \u001b[0mi\u001b[0m\u001b[0;34m,\u001b[0m\u001b[0mo\u001b[0m \u001b[0;32min\u001b[0m \u001b[0ma\u001b[0m\u001b[0;34m,\u001b[0m\u001b[0mb\u001b[0m\u001b[0;34m:\u001b[0m\u001b[0;34m\u001b[0m\u001b[0;34m\u001b[0m\u001b[0m\n\u001b[0m\u001b[1;32m      8\u001b[0m     \u001b[0me\u001b[0m\u001b[0;34m.\u001b[0m\u001b[0mappend\u001b[0m\u001b[0;34m(\u001b[0m\u001b[0mi\u001b[0m\u001b[0;34m)\u001b[0m\u001b[0;34m\u001b[0m\u001b[0;34m\u001b[0m\u001b[0m\n\u001b[1;32m      9\u001b[0m     \u001b[0md\u001b[0m\u001b[0;34m.\u001b[0m\u001b[0mappend\u001b[0m\u001b[0;34m(\u001b[0m\u001b[0mo\u001b[0m\u001b[0;34m)\u001b[0m\u001b[0;34m\u001b[0m\u001b[0;34m\u001b[0m\u001b[0m\n",
      "\u001b[0;31mValueError\u001b[0m: too many values to unpack (expected 2)"
     ]
    }
   ],
   "source": [
    "a = [1,2,3]\n",
    "b = [4,5,6]\n",
    "\n",
    "e = []\n",
    "d = []\n",
    "\n",
    "for i,o in a,b:\n",
    "    e.append(i)\n",
    "    d.append(o)"
   ]
  },
  {
   "cell_type": "code",
   "execution_count": null,
   "metadata": {},
   "outputs": [],
   "source": []
  }
 ],
 "metadata": {
  "kernelspec": {
   "display_name": "Python 3",
   "language": "python",
   "name": "python3"
  },
  "language_info": {
   "codemirror_mode": {
    "name": "ipython",
    "version": 3
   },
   "file_extension": ".py",
   "mimetype": "text/x-python",
   "name": "python",
   "nbconvert_exporter": "python",
   "pygments_lexer": "ipython3",
   "version": "3.8.5"
  }
 },
 "nbformat": 4,
 "nbformat_minor": 4
}
