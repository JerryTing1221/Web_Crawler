{
 "cells": [
  {
   "cell_type": "code",
   "execution_count": null,
   "metadata": {},
   "outputs": [],
   "source": [
    "from selenium import webdriver\n",
    "import requests\n",
    "import pandas as pd\n",
    "from lxml import etree\n",
    "import time\n",
    "import ssl\n",
    "\n",
    "ssl._create_default_https_context = ssl._create_unverified_context\n",
    "\n",
    "\n",
    "\n",
    "url = 'https://www.pixnet.net/tags/%E5%8F%B0%E5%8D%97'\n",
    "\n",
    "userAgent = 'Mozilla/5.0 (Macintosh; Intel Mac OS X 10_11_6) AppleWebKit/537.36 (KHTML, like Gecko) Chrome/90.0.4430.72 Safari/537.36'\n",
    "\n",
    "headers = {\n",
    "    'user-aghent':userAgent\n",
    "}\n",
    "\n",
    "driver = webdriver.Chrome('./chromedriver')\n",
    "\n",
    "driver.get(url)\n",
    "\n",
    "#模擬滾輪下滑到底部：設定70次\n",
    "for i in range(1,30):\n",
    "    js=\"var q=document.documentElement.scrollTop=5000\"  \n",
    "    driver.execute_script(js)  \n",
    "    time.sleep(3)\n",
    "\n",
    "html = etree.HTML(driver.page_source)\n"
   ]
  },
  {
   "cell_type": "code",
   "execution_count": null,
   "metadata": {},
   "outputs": [],
   "source": [
    "pageLink = html.xpath('//@href')\n",
    "\n",
    "pageList = []\n",
    "\n",
    "for i in pageLink:\n",
    "    if 'blog/post' in i:\n",
    "        pageList.append(i)\n",
    "    else:\n",
    "        pass\n",
    "print(pageList)"
   ]
  },
  {
   "cell_type": "code",
   "execution_count": null,
   "metadata": {},
   "outputs": [],
   "source": [
    "from bs4 import BeautifulSoup\n",
    "import ssl\n",
    "import os\n",
    "\n",
    "ssl._create_default_https_context = ssl._create_unverified_context\n",
    "\n",
    "\n",
    "\n",
    "\n",
    "folderName = './PixPhoto/'\n",
    "if not os.path.exists(folderName):\n",
    "    os.mkdir(folderName)\n",
    "    \n",
    "\n",
    "    \n",
    "    \n",
    "for i in pageList:\n",
    "    resq = requests.get(i)\n",
    "    resq.encoding = \"gzip\"\n",
    "    soup = BeautifulSoup(resq.text)\n",
    "    #print(soup)\n",
    "    pageTitle = soup.select('h2[itemprop=\"headline\"]')\n",
    "    pageContent = soup.select('div[class=\"article-body\"]')\n",
    "    page_link = i\n",
    "    \n",
    "    \n",
    "    try:\n",
    "        pagePath = folderName + pageTitle[0].text\n",
    "\n",
    "\n",
    "        with open(pagePath, 'w') as f:\n",
    "            f.write(pageContent[0].text)\n",
    "    \n",
    "    except:\n",
    "        pass\n",
    "        \n",
    "\n",
    "\n",
    "\n",
    "\n",
    "\n",
    "    "
   ]
  },
  {
   "cell_type": "code",
   "execution_count": null,
   "metadata": {},
   "outputs": [],
   "source": [
    "#建資料夾\n",
    "folderName = './PixPhoto/'\n",
    "if not os.path.exists(folderName):\n",
    "    os.mkdir(folderName)\n",
    "\n",
    "pagePath = folderName + pageTitle[0].text\n",
    "\n",
    "    \n",
    "with open(pagePath, 'w') as f:\n",
    "    f.write(pageContent[0].text)\n",
    "\n",
    "pagePath.close()\n",
    "\n"
   ]
  },
  {
   "cell_type": "code",
   "execution_count": null,
   "metadata": {},
   "outputs": [],
   "source": [
    "os.getcwd()"
   ]
  },
  {
   "cell_type": "code",
   "execution_count": null,
   "metadata": {},
   "outputs": [],
   "source": []
  }
 ],
 "metadata": {
  "kernelspec": {
   "display_name": "Python 3",
   "language": "python",
   "name": "python3"
  },
  "language_info": {
   "codemirror_mode": {
    "name": "ipython",
    "version": 3
   },
   "file_extension": ".py",
   "mimetype": "text/x-python",
   "name": "python",
   "nbconvert_exporter": "python",
   "pygments_lexer": "ipython3",
   "version": "3.8.5"
  }
 },
 "nbformat": 4,
 "nbformat_minor": 4
}
